{
 "cells": [
  {
   "cell_type": "code",
   "execution_count": 72,
   "id": "7b5b16b3",
   "metadata": {},
   "outputs": [],
   "source": [
    "from pyshorteners import *\n",
    "import tkinter\n",
    "from tkinter import messagebox as mb\n",
    "\n",
    "root=tkinter.Tk()\n",
    "\n",
    "root.title(\"URL SHORTENER\")\n",
    "root.geometry('800x600')\n",
    "root.configure(background='#894329')\n",
    "\n",
    "label=tkinter.Label(root,text=\"Copy the URL here\",font=('Helvetica',15,\"bold\"),background='#FCB886',foreground='#12727D')\n",
    "label.place(relx=0.08,rely=0.15,relheight=0.09,relwidth=0.35)\n",
    "\n",
    "entry_url=tkinter.Entry(root,font=('Helvetica',15,\"bold\"),background='#12727D',foreground='white')\n",
    "entry_url.place(relx=0.5,rely=0.15,relheight=0.09,relwidth=0.48)\n",
    "\n",
    "\n",
    "label2=tkinter.Label(root,text=\"Shortened Url\",font=('Helvetica',15,\"bold\"),background='#FCB886',foreground='#12727D')\n",
    "label2.place(relx=0.08,rely=0.3,relheight=0.09,relwidth=0.35)\n",
    "\n",
    "shorten_url=tkinter.Entry(root,font=('Helvetica',15,\"bold\"),background='#12727D',foreground='white')\n",
    "shorten_url.place(relx=0.5,rely=0.3,relheight=0.09,relwidth=0.48)\n",
    "\n",
    "def generate():\n",
    "    url_input=entry_url.get()\n",
    "    url=Shortener()\n",
    "    short_url=url.tinyurl.short(url_input)\n",
    "    shorten_url.delete(0,'end')\n",
    "    shorten_url.insert(0,short_url)\n",
    "    mb.showinfo(\"Shortened Url Generated\",\"Click on th link to access it. !\")\n",
    " \n",
    "def clear():\n",
    "    entry_url.delete(0,'end')\n",
    "    shorten_url.delete(0,'end')\n",
    "    \n",
    "generate=tkinter.Button(root,text='Generate',font=(\"Helvetica\",20,\"bold\"),background='#12727D',foreground='white',borderwidth=2,command=generate)\n",
    "generate.place(relx=0.1,rely=0.51,relheight=0.2,relwidth=0.33)\n",
    "\n",
    "clear=tkinter.Button(root,text='Clear',font=(\"Helvetica\",20,\"bold\"),background='#12727D',foreground='white',borderwidth=2,command=clear)\n",
    "clear.place(rely=0.51,relx=0.57,relwidth=0.33,relheight=0.2)\n",
    "\n",
    "root.mainloop()"
   ]
  },
  {
   "cell_type": "code",
   "execution_count": null,
   "id": "a4f0629e",
   "metadata": {},
   "outputs": [],
   "source": [
    "https://tinyurl.com/y5h2la9o"
   ]
  },
  {
   "cell_type": "code",
   "execution_count": null,
   "id": "3aea520b",
   "metadata": {},
   "outputs": [],
   "source": []
  }
 ],
 "metadata": {
  "kernelspec": {
   "display_name": "Python 3",
   "language": "python",
   "name": "python3"
  },
  "language_info": {
   "codemirror_mode": {
    "name": "ipython",
    "version": 3
   },
   "file_extension": ".py",
   "mimetype": "text/x-python",
   "name": "python",
   "nbconvert_exporter": "python",
   "pygments_lexer": "ipython3",
   "version": "3.6.9"
  }
 },
 "nbformat": 4,
 "nbformat_minor": 5
}
